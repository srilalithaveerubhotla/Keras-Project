{
  "nbformat": 4,
  "nbformat_minor": 0,
  "metadata": {
    "colab": {
      "name": "Keras_Project_2.ipynb",
      "provenance": [],
      "private_outputs": true,
      "collapsed_sections": [],
      "machine_shape": "hm",
      "authorship_tag": "ABX9TyMsaxjTrWl3TjHBWuk1zolc",
      "include_colab_link": true
    },
    "kernelspec": {
      "name": "python3",
      "display_name": "Python 3"
    },
    "accelerator": "TPU"
  },
  "cells": [
    {
      "cell_type": "markdown",
      "metadata": {
        "id": "view-in-github",
        "colab_type": "text"
      },
      "source": [
        "<a href=\"https://colab.research.google.com/github/srilalithaveerubhotla/Keras-Project/blob/master/Keras_Project_2.ipynb\" target=\"_parent\"><img src=\"https://colab.research.google.com/assets/colab-badge.svg\" alt=\"Open In Colab\"/></a>"
      ]
    },
    {
      "cell_type": "markdown",
      "metadata": {
        "id": "HLPcaYaZi-Hc",
        "colab_type": "text"
      },
      "source": [
        "# This colab is to work on cifar 100 dataset where I used advanced keras using sequential and functial api\n",
        "\n",
        "## code purely consists of dropouts, dense layers, sparse categorical entrophy loss, early stopping, batch normalisation with flatten layers and acuuracy, mse as error metrics."
      ]
    },
    {
      "cell_type": "code",
      "metadata": {
        "id": "2FNsoFO5GCOf",
        "colab_type": "code",
        "colab": {}
      },
      "source": [
        "import cv2\n",
        "import numpy\n",
        "import glob\n",
        "import pylab as plt\n",
        "import os\n",
        "\n",
        "# importing libraries\n",
        "from matplotlib import pyplot\n",
        "from keras import datasets\n",
        "from keras import Sequential\n",
        "from keras.layers import Dense,Flatten\n",
        "from keras.utils import to_categorical\n",
        "import tensorflow as tf\n",
        "import numpy as np\n",
        "import os\n",
        "import matplotlib.pyplot as plt\n",
        "\n",
        "from keras.callbacks import TensorBoard\n",
        "\n",
        "from __future__ import absolute_import\n",
        "from __future__ import division\n",
        "from __future__ import print_function\n",
        "\n",
        "from datetime import datetime\n",
        "from packaging import version\n",
        "\n",
        "\n",
        "#from kerastuner.tuners import RandomSearch\n",
        "from keras.layers import Input, Dense\n",
        "from keras.models import Model\n",
        "import tensorflow as tf\n",
        "from tensorflow import keras\n",
        "from keras.models import Sequential\n",
        "from keras.layers import Dense, Activation\n",
        "from keras.optimizers import SGD\n",
        "from tensorboard.plugins.hparams import api as hp\n",
        "from keras.utils import print_summary, to_categorical\n",
        "\n",
        "print(\"TensorFlow version: \", tf.__version__)\n",
        "assert version.parse(tf.__version__).release[0] >= 2, \\\n",
        "    \"This notebook requires TensorFlow 2.0 or above.\"\n",
        "from datetime import datetime\n",
        "%load_ext tensorboard\n",
        "# %reload_ext tensorboard\n",
        "%tensorboard --logdir {logs_base_dir}"
      ],
      "execution_count": 0,
      "outputs": []
    },
    {
      "cell_type": "code",
      "metadata": {
        "id": "R83NpE0BKsu2",
        "colab_type": "code",
        "colab": {}
      },
      "source": [
        "!pip install -U -q kaggle"
      ],
      "execution_count": 0,
      "outputs": []
    },
    {
      "cell_type": "code",
      "metadata": {
        "id": "ZnQAGc7QXyZl",
        "colab_type": "code",
        "colab": {}
      },
      "source": [
        "!mkdir -p ~/.kaggle"
      ],
      "execution_count": 0,
      "outputs": []
    },
    {
      "cell_type": "code",
      "metadata": {
        "id": "UbGz-EyFX1n5",
        "colab_type": "code",
        "colab": {}
      },
      "source": [
        "! ls -al\n",
        "#!ls -ltr \"/content/fruits-360_dataset/fruits-360/Training/\"\n",
        "# !kaggle datasets list -s moltean/fruits\n",
        "# !chmod 600 /content/.kaggle/datasets/"
      ],
      "execution_count": 0,
      "outputs": []
    },
    {
      "cell_type": "code",
      "metadata": {
        "id": "q5IPAglGX4wb",
        "colab_type": "code",
        "colab": {}
      },
      "source": [
        "from google.colab import files\n",
        "files.upload()"
      ],
      "execution_count": 0,
      "outputs": []
    },
    {
      "cell_type": "code",
      "metadata": {
        "id": "F-eAjDWLX8OG",
        "colab_type": "code",
        "colab": {}
      },
      "source": [
        "!cp kaggle.json ~/.kaggle/"
      ],
      "execution_count": 0,
      "outputs": []
    },
    {
      "cell_type": "code",
      "metadata": {
        "id": "jqnXx_53YCT9",
        "colab_type": "code",
        "colab": {}
      },
      "source": [
        "!kaggle datasets list"
      ],
      "execution_count": 0,
      "outputs": []
    },
    {
      "cell_type": "code",
      "metadata": {
        "id": "71Ps6YtXYFRS",
        "colab_type": "code",
        "colab": {}
      },
      "source": [
        "!kaggle datasets download -d asdasdasasdas/garbage-classification"
      ],
      "execution_count": 0,
      "outputs": []
    },
    {
      "cell_type": "code",
      "metadata": {
        "id": "SZlTf4rFcj17",
        "colab_type": "code",
        "colab": {}
      },
      "source": [
        "!unzip garbage-classification.zip"
      ],
      "execution_count": 0,
      "outputs": []
    },
    {
      "cell_type": "code",
      "metadata": {
        "id": "Ch4VM8rwkK1l",
        "colab_type": "code",
        "colab": {}
      },
      "source": [
        "# from google.colab import drive\n",
        "# drive.mount('/content/')\n",
        "from google.colab import drive\n",
        "drive.mount('/content/*/')"
      ],
      "execution_count": 0,
      "outputs": []
    },
    {
      "cell_type": "code",
      "metadata": {
        "id": "-JH4CPbHc_XY",
        "colab_type": "code",
        "colab": {}
      },
      "source": [
        "import pandas as pd\n",
        "import cv2\n",
        "import torch\n",
        "import numpy as np\n",
        "import torchvision.transforms as transforms\n"
      ],
      "execution_count": 0,
      "outputs": []
    },
    {
      "cell_type": "code",
      "metadata": {
        "id": "qZTytpemvnha",
        "colab_type": "code",
        "colab": {}
      },
      "source": [
        "from google.colab import drive\n",
        "drive.mount('/')"
      ],
      "execution_count": 0,
      "outputs": []
    },
    {
      "cell_type": "code",
      "metadata": {
        "id": "fIuAZzdnI8fg",
        "colab_type": "code",
        "colab": {}
      },
      "source": [
        "from google.colab import drive\n",
        "drive.mount('/content/drive')"
      ],
      "execution_count": 0,
      "outputs": []
    },
    {
      "cell_type": "code",
      "metadata": {
        "id": "pKeThy1K4O4u",
        "colab_type": "code",
        "colab": {}
      },
      "source": [
        "!ls /content/garbage\\ classification/Garbage\\ classification"
      ],
      "execution_count": 0,
      "outputs": []
    },
    {
      "cell_type": "code",
      "metadata": {
        "id": "_SVGdTfbe9PF",
        "colab_type": "code",
        "colab": {}
      },
      "source": [
        "# import glob\n",
        "# file = \"/content/fruits-360_dataset/fruits-360/Training/Lemon/\"\n",
        "# images = [cv2.imread(file) for file in glob.glob(\"path/to/files/*.png\")]\n",
        "# #test = cv2.imread(\"/content/fruits-360-dataset/fruits-360/Test/*\")"
      ],
      "execution_count": 0,
      "outputs": []
    },
    {
      "cell_type": "code",
      "metadata": {
        "id": "TMjQihxkIACU",
        "colab_type": "code",
        "colab": {}
      },
      "source": [
        "# Importing and deriving the training images and labelling them\n",
        "fruit_images = []\n",
        "labels = [] \n",
        "for fruit_dir_path in glob.glob(\"/content/fruits-360_dataset/fruits-360/Training/*\"):\n",
        "    fruit_label = fruit_dir_path.split(\"/\")[-1]\n",
        "    for image_path in glob.glob(os.path.join(fruit_dir_path, \"*.jpg\")):\n",
        "        image = cv2.imread(image_path, cv2.IMREAD_COLOR)\n",
        "        \n",
        "        image = cv2.resize(image, (45, 45))\n",
        "        image = cv2.cvtColor(image, cv2.COLOR_RGB2BGR)\n",
        "        \n",
        "        fruit_images.append(image)\n",
        "        labels.append(fruit_label)\n",
        "fruit_images = np.array(fruit_images)\n",
        "labels = np.array(labels)"
      ],
      "execution_count": 0,
      "outputs": []
    },
    {
      "cell_type": "code",
      "metadata": {
        "id": "to0h0thVIftJ",
        "colab_type": "code",
        "colab": {}
      },
      "source": [
        "label_to_id_dict = {v:i for i,v in enumerate(np.unique(labels))}\n",
        "id_to_label_dict = {v: k for k, v in label_to_id_dict.items()}"
      ],
      "execution_count": 0,
      "outputs": []
    },
    {
      "cell_type": "code",
      "metadata": {
        "id": "IxLNty9NJfu8",
        "colab_type": "code",
        "colab": {}
      },
      "source": [
        "training_label_id = np.array([label_to_id_dict[i] for i in labels])"
      ],
      "execution_count": 0,
      "outputs": []
    },
    {
      "cell_type": "code",
      "metadata": {
        "id": "ntxaaE1nIlDk",
        "colab_type": "code",
        "colab": {}
      },
      "source": [
        "id_to_label_dict"
      ],
      "execution_count": 0,
      "outputs": []
    },
    {
      "cell_type": "code",
      "metadata": {
        "id": "o3iQCnr_JycX",
        "colab_type": "code",
        "colab": {}
      },
      "source": [
        "print(\"Train_data shape......:\",fruit_images.shape)\n",
        "print(\"Labels shape..........:\",training_label_id.shape)"
      ],
      "execution_count": 0,
      "outputs": []
    },
    {
      "cell_type": "code",
      "metadata": {
        "id": "etgWp2cbKU7s",
        "colab_type": "code",
        "colab": {}
      },
      "source": [
        "# Getting validation data and labelling the data\n",
        "\n",
        "validation = []\n",
        "val_labels = [] \n",
        "for fruit_dir_path in glob.glob(\"/content/fruits-360_dataset/fruits-360/Test/*\"):\n",
        "    fruit_label = fruit_dir_path.split(\"/\")[-1]\n",
        "    for image_path in glob.glob(os.path.join(fruit_dir_path, \"*.jpg\")):\n",
        "        image = cv2.imread(image_path, cv2.IMREAD_COLOR)\n",
        "        \n",
        "        image = cv2.resize(image, (45, 45))\n",
        "        image = cv2.cvtColor(image, cv2.COLOR_RGB2BGR)\n",
        "        \n",
        "        validation.append(image)\n",
        "        val_labels.append(fruit_label)\n",
        "val_images = np.array(validation)\n",
        "val_labels = np.array(val_labels)"
      ],
      "execution_count": 0,
      "outputs": []
    },
    {
      "cell_type": "code",
      "metadata": {
        "id": "IViD_LVfKU-h",
        "colab_type": "code",
        "colab": {}
      },
      "source": [
        "label_to_id_dict_val = {v:i for i,v in enumerate(np.unique(val_labels))}\n",
        "id_to_label_dict_val = {v: k for k, v in label_to_id_dict_val.items()}"
      ],
      "execution_count": 0,
      "outputs": []
    },
    {
      "cell_type": "code",
      "metadata": {
        "id": "8zTAva2AKVBs",
        "colab_type": "code",
        "colab": {}
      },
      "source": [
        "valid_label_id = np.array([label_to_id_dict_val[i] for i in val_labels])"
      ],
      "execution_count": 0,
      "outputs": []
    },
    {
      "cell_type": "code",
      "metadata": {
        "id": "--MrhbKiKVEI",
        "colab_type": "code",
        "colab": {}
      },
      "source": [
        "valid_label_id"
      ],
      "execution_count": 0,
      "outputs": []
    },
    {
      "cell_type": "code",
      "metadata": {
        "id": "lI8L_NpKQeRm",
        "colab_type": "code",
        "colab": {}
      },
      "source": [
        "print(\"Test Data shape......:\",val_images.shape)\n",
        "print(\"Test Labels shape..........:\",valid_label_id.shape)"
      ],
      "execution_count": 0,
      "outputs": []
    },
    {
      "cell_type": "code",
      "metadata": {
        "id": "ZehXg7NiQBG9",
        "colab_type": "code",
        "colab": {}
      },
      "source": [
        "X_train,X_test = fruit_images,validation\n",
        "Y_train,Y_test = training_label_id,valid_label_id"
      ],
      "execution_count": 0,
      "outputs": []
    },
    {
      "cell_type": "code",
      "metadata": {
        "id": "Tgmv7VY2UMxN",
        "colab_type": "code",
        "colab": {}
      },
      "source": [
        "# X_train = X_train/255.0\n",
        "# X_test = X_test/255.0"
      ],
      "execution_count": 0,
      "outputs": []
    },
    {
      "cell_type": "code",
      "metadata": {
        "id": "imO2xZlnKVG1",
        "colab_type": "code",
        "colab": {}
      },
      "source": [
        "now = datetime.now()\n",
        "logdir = \"logs/fruit_images/\" + now.strftime(\"%Y%m%d-%H%M%S\")\n",
        "file_writer = tf.summary.create_file_writer(logdir + \"/metrics\")\n",
        "with file_writer.as_default():\n",
        "  tf.summary.image(\"Training data\", np.reshape(X_train[0:7],(-1,45,45,3)), step=0)\n",
        "file_writer.set_as_default()"
      ],
      "execution_count": 0,
      "outputs": []
    },
    {
      "cell_type": "code",
      "metadata": {
        "id": "mJTU83sDKVJg",
        "colab_type": "code",
        "colab": {}
      },
      "source": [
        "%tensorboard --logdir logs/fruit_images/"
      ],
      "execution_count": 0,
      "outputs": []
    },
    {
      "cell_type": "code",
      "metadata": {
        "id": "XWbA29HlKVPE",
        "colab_type": "code",
        "colab": {}
      },
      "source": [
        "def keras_model():\n",
        "  \n",
        "  tf.random.set_seed(42)\n",
        "  np.random.seed(42)\n",
        "  model=tf.keras.Sequential()\n",
        "  model.add(tf.keras.layers.Flatten(input_shape=[45,45,3]))\n",
        "  model.add(tf.keras.layers.Dense(256,activation='relu',kernel_initializer='he_normal'))\n",
        "  model.add(keras.layers.BatchNormalization())\n",
        "  #model.add(keras.layers.Dropout(10,seed=None))\n",
        "  model.add(tf.keras.layers.Dense(120,activation='relu',kernel_initializer='he_normal'))\n",
        "  model.add(keras.layers.BatchNormalization())\n",
        "  #model.add(keras.layers.Dropout(5,seed=None))\n",
        "  model.add(tf.keras.layers.Dense(50,activation='relu',kernel_initializer='he_normal'))\n",
        "  model.add(keras.layers.BatchNormalization())\n",
        "  model.add(tf.keras.layers.Dense(121,activation='softmax'))\n",
        "  return model"
      ],
      "execution_count": 0,
      "outputs": []
    },
    {
      "cell_type": "code",
      "metadata": {
        "id": "dpREt7xNKVRa",
        "colab_type": "code",
        "colab": {}
      },
      "source": [
        "model=keras_model()\n",
        "optimizer = keras.optimizers.Nadam(lr=20e-3)\n",
        "model.summary()"
      ],
      "execution_count": 0,
      "outputs": []
    },
    {
      "cell_type": "code",
      "metadata": {
        "id": "4PBuQXycKVUM",
        "colab_type": "code",
        "colab": {}
      },
      "source": [
        "keras.utils.plot_model(model, \"fruits.png\", show_shapes=True)"
      ],
      "execution_count": 0,
      "outputs": []
    },
    {
      "cell_type": "code",
      "metadata": {
        "id": "uy50JS1kKVZl",
        "colab_type": "code",
        "colab": {}
      },
      "source": [
        "model.compile(loss=\"binary_crossentropy\",\n",
        "              optimizer=optimizer,\n",
        "              metrics=[\"accuracy\",'mse'])"
      ],
      "execution_count": 0,
      "outputs": []
    },
    {
      "cell_type": "code",
      "metadata": {
        "id": "XSwEmIneZjfE",
        "colab_type": "code",
        "colab": {}
      },
      "source": [
        "X_train = np.array(X_train)/255\n",
        "X_test = np.array(X_test)/255"
      ],
      "execution_count": 0,
      "outputs": []
    },
    {
      "cell_type": "code",
      "metadata": {
        "id": "oIBl3YtuKVcC",
        "colab_type": "code",
        "colab": {}
      },
      "source": [
        "early_stopping = tf.keras.callbacks.EarlyStopping(patience=100)\n",
        "model_checkpoint = tf.keras.callbacks.ModelCheckpoint(\"fruits_model.h5\", save_best_only=True)\n",
        "logdir=\"logs/fruit_images/\" + datetime.now().strftime(\"%Y%m%d-%H%M%S\")\n",
        "tensorboard_callback = keras.callbacks.TensorBoard(log_dir=logdir)"
      ],
      "execution_count": 0,
      "outputs": []
    },
    {
      "cell_type": "code",
      "metadata": {
        "id": "BdSjn15mKVe4",
        "colab_type": "code",
        "colab": {}
      },
      "source": [
        "model.fit(X_train, Y_train, epochs=5,\n",
        "          callbacks=[early_stopping,model_checkpoint,tensorboard_callback])"
      ],
      "execution_count": 0,
      "outputs": []
    },
    {
      "cell_type": "code",
      "metadata": {
        "id": "NgdIrbMnKVht",
        "colab_type": "code",
        "colab": {}
      },
      "source": [
        "%tensorboard --logdir logs/fruit_images/"
      ],
      "execution_count": 0,
      "outputs": []
    },
    {
      "cell_type": "code",
      "metadata": {
        "id": "C6JGINoqcidA",
        "colab_type": "code",
        "colab": {}
      },
      "source": [
        "Y_train = keras.utils.to_categorical(Y_train, 121)\n",
        "Y_test = keras.utils.to_categorical(Y_test, 121)"
      ],
      "execution_count": 0,
      "outputs": []
    },
    {
      "cell_type": "code",
      "metadata": {
        "id": "yIfJu1K_KVkV",
        "colab_type": "code",
        "colab": {}
      },
      "source": [
        "keras.backend.clear_session()\n",
        "tf.random.set_seed(42)\n",
        "np.random.seed(42)\n",
        "\n",
        "model = Sequential()\n",
        "model.add(Dense(526, activation='relu', input_dim=6075))\n",
        "model.add(Dense(526, activation='relu'))\n",
        "model.add(Dense(121, activation='softmax'))\n",
        "sgd = SGD(lr=0.01, decay=1e-6, momentum=0.9, nesterov=True)\n",
        "#sgd = keras.optimizers.SGD(lr=0.01, decay=1e-6, momentum=0.9, nesterov=True)\n",
        "model.summary()\n",
        "keras.utils.plot_model(model, \"fruits.png\", show_shapes=True)"
      ],
      "execution_count": 0,
      "outputs": []
    },
    {
      "cell_type": "code",
      "metadata": {
        "id": "sWPVQct_avSy",
        "colab_type": "code",
        "colab": {}
      },
      "source": [
        "model.compile(optimizer=sgd,\n",
        "              loss='binary_crossentropy',\n",
        "              metrics=['accuracy'])"
      ],
      "execution_count": 0,
      "outputs": []
    },
    {
      "cell_type": "code",
      "metadata": {
        "id": "WGnyQSVSKVnE",
        "colab_type": "code",
        "colab": {}
      },
      "source": [
        "history = model.fit(X_train,Y_train, epochs=15, batch_size=120, verbose=2, validation_split=0.2\n",
        "                    )\n"
      ],
      "execution_count": 0,
      "outputs": []
    },
    {
      "cell_type": "code",
      "metadata": {
        "id": "-yEscdSOcgZ5",
        "colab_type": "code",
        "colab": {}
      },
      "source": [
        ""
      ],
      "execution_count": 0,
      "outputs": []
    },
    {
      "cell_type": "code",
      "metadata": {
        "id": "tfmkVQTBKVp9",
        "colab_type": "code",
        "colab": {}
      },
      "source": [
        ""
      ],
      "execution_count": 0,
      "outputs": []
    },
    {
      "cell_type": "code",
      "metadata": {
        "id": "_5UIkwVZKVss",
        "colab_type": "code",
        "colab": {}
      },
      "source": [
        ""
      ],
      "execution_count": 0,
      "outputs": []
    },
    {
      "cell_type": "code",
      "metadata": {
        "id": "-pS8D77jKVvO",
        "colab_type": "code",
        "colab": {}
      },
      "source": [
        ""
      ],
      "execution_count": 0,
      "outputs": []
    },
    {
      "cell_type": "code",
      "metadata": {
        "id": "rLLhcTzFKVx9",
        "colab_type": "code",
        "colab": {}
      },
      "source": [
        ""
      ],
      "execution_count": 0,
      "outputs": []
    },
    {
      "cell_type": "code",
      "metadata": {
        "id": "mZ1IT47bKV03",
        "colab_type": "code",
        "colab": {}
      },
      "source": [
        ""
      ],
      "execution_count": 0,
      "outputs": []
    },
    {
      "cell_type": "code",
      "metadata": {
        "id": "ZMPMFreQKV35",
        "colab_type": "code",
        "colab": {}
      },
      "source": [
        ""
      ],
      "execution_count": 0,
      "outputs": []
    },
    {
      "cell_type": "code",
      "metadata": {
        "id": "ZjgU5J4EKV6I",
        "colab_type": "code",
        "colab": {}
      },
      "source": [
        ""
      ],
      "execution_count": 0,
      "outputs": []
    },
    {
      "cell_type": "code",
      "metadata": {
        "id": "exTaNFWIKV8Z",
        "colab_type": "code",
        "colab": {}
      },
      "source": [
        ""
      ],
      "execution_count": 0,
      "outputs": []
    },
    {
      "cell_type": "code",
      "metadata": {
        "id": "Hc9tKw3SKVXB",
        "colab_type": "code",
        "colab": {}
      },
      "source": [
        ""
      ],
      "execution_count": 0,
      "outputs": []
    },
    {
      "cell_type": "code",
      "metadata": {
        "id": "HBdLdlTc3Uqw",
        "colab_type": "code",
        "colab": {}
      },
      "source": [
        "\n",
        "# folders = glob.glob('/content/fruits-360_dataset/fruits-360/Training/Apricot/')\n",
        "# imagenames_list = []\n",
        "# label=[]\n",
        "# for labels in folders:\n",
        "#   fruit_label = fruit_dir_path.split(\"/\")[-1]\n",
        "#     for f in glob.glob(folder+'/*.jpg'):\n",
        "#         imagenames_list.append(f)\n",
        "#         label.append\n",
        "\n",
        "# apricot = []        \n",
        "\n",
        "# for image in imagenames_list:\n",
        "#     read_images.append(cv2.imread(image, cv2.IMREAD_COLOR))"
      ],
      "execution_count": 0,
      "outputs": []
    },
    {
      "cell_type": "code",
      "metadata": {
        "id": "F1V7VQ0KtKJZ",
        "colab_type": "code",
        "colab": {}
      },
      "source": [
        "# !kaggle datasets list -s moltean/fruits\n"
      ],
      "execution_count": 0,
      "outputs": []
    },
    {
      "cell_type": "code",
      "metadata": {
        "id": "lnVBqK910WtQ",
        "colab_type": "code",
        "colab": {}
      },
      "source": [
        "# !chmod 600 /content/.kaggle/datasets/"
      ],
      "execution_count": 0,
      "outputs": []
    },
    {
      "cell_type": "code",
      "metadata": {
        "id": "_TW4liOLnrie",
        "colab_type": "code",
        "colab": {}
      },
      "source": [
        "from matplotlib import pyplot\n",
        "for i in range(9):\n",
        "\t# define subplot\n",
        "\tpyplot.subplot(330 + 1 + i)\n",
        "\t# plot raw pixel data\n",
        "\tpyplot.imshow(read_images[i], cmap=pyplot.get_cmap('gray'))\n",
        "# show the figure\n",
        "pyplot.show()"
      ],
      "execution_count": 0,
      "outputs": []
    },
    {
      "cell_type": "code",
      "metadata": {
        "id": "TbHFAKvin0T5",
        "colab_type": "code",
        "colab": {}
      },
      "source": [
        "pyplot.imshow(train[0])"
      ],
      "execution_count": 0,
      "outputs": []
    },
    {
      "cell_type": "markdown",
      "metadata": {
        "id": "K1bHXHrYi6sE",
        "colab_type": "text"
      },
      "source": [
        ""
      ]
    },
    {
      "cell_type": "code",
      "metadata": {
        "id": "39uxvsHin_4O",
        "colab_type": "code",
        "colab": {}
      },
      "source": [
        ""
      ],
      "execution_count": 0,
      "outputs": []
    }
  ]
}